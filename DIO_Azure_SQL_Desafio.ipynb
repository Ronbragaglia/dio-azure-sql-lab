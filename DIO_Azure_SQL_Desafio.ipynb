{
  "nbformat": 4,
  "nbformat_minor": 0,
  "metadata": {
    "colab": {
      "provenance": [],
      "authorship_tag": "ABX9TyPtRazWDrBLWtohOB655AM9",
      "include_colab_link": true
    },
    "kernelspec": {
      "name": "python3",
      "display_name": "Python 3"
    },
    "language_info": {
      "name": "python"
    }
  },
  "cells": [
    {
      "cell_type": "markdown",
      "metadata": {
        "id": "view-in-github",
        "colab_type": "text"
      },
      "source": [
        "<a href=\"https://colab.research.google.com/github/Ronbragaglia/dio-azure-sql-lab/blob/main/DIO_Azure_SQL_Desafio.ipynb\" target=\"_parent\"><img src=\"https://colab.research.google.com/assets/colab-badge.svg\" alt=\"Open In Colab\"/></a>"
      ]
    },
    {
      "cell_type": "code",
      "source": [
        "from getpass import getpass\n",
        "\n",
        "GITHUB_USERNAME = input(\"Seu usuário GitHub: \").strip()\n",
        "REPO_NAME = input(\"Nome do repositório (ex.: dio-azure-sql-lab): \").strip()\n",
        "REPO_DESCRIPTION = \"Laboratório DIO: Configuração de Azure SQL Managed Instance e documentação de estudos.\"\n",
        "PRIVATE = False\n",
        "\n",
        "GITHUB_TOKEN = getpass(\"Cole seu GitHub Personal Access Token (escopo 'repo'): \")\n"
      ],
      "metadata": {
        "id": "LvPRi6YVdgcV"
      },
      "execution_count": null,
      "outputs": []
    },
    {
      "cell_type": "code",
      "source": [
        "import requests\n",
        "\n",
        "def create_repo(username, token, name, description=\"\", private=False):\n",
        "    url = \"https://api.github.com/user/repos\"\n",
        "    headers = {\"Authorization\": f\"token {token}\"}\n",
        "    payload = {\n",
        "        \"name\": name,\n",
        "        \"description\": description,\n",
        "        \"private\": private,\n",
        "        \"has_issues\": True,\n",
        "        \"has_projects\": True,\n",
        "        \"has_wiki\": True,\n",
        "        \"auto_init\": False\n",
        "    }\n",
        "    r = requests.post(url, headers=headers, json=payload)\n",
        "    if r.status_code == 201:\n",
        "        print(\"Repositório criado com sucesso.\")\n",
        "        return r.json()\n",
        "    elif r.status_code == 422 and \"name already exists\" in r.text.lower():\n",
        "        print(\"Repositório já existe. Prosseguindo com clone/push.\")\n",
        "        return {\"html_url\": f\"https://github.com/{username}/{name}\"}\n",
        "    else:\n",
        "        print(\"Falha ao criar repositório:\", r.status_code, r.text)\n",
        "        raise SystemExit\n",
        "\n",
        "repo_info = create_repo(GITHUB_USERNAME, GITHUB_TOKEN, REPO_NAME, REPO_DESCRIPTION, PRIVATE)\n",
        "repo_info\n"
      ],
      "metadata": {
        "id": "_LZslw5vdlAQ"
      },
      "execution_count": null,
      "outputs": []
    }
  ]
}